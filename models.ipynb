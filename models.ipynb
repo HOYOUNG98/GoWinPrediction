{
 "cells": [
  {
   "cell_type": "code",
   "execution_count": 18,
   "id": "e1dcf8a0-282a-4b4d-9a20-b63c77ac8112",
   "metadata": {},
   "outputs": [
    {
     "name": "stdout",
     "output_type": "stream",
     "text": [
      "(91608, 16)\n",
      "0.6510348441184176\n"
     ]
    }
   ],
   "source": [
    "from pandas import DataFrame, read_csv\n",
    "from tqdm import tqdm\n",
    "\n",
    "games_df = read_csv(\"./data/01-11-processed.csv\")\n",
    "games_df = games_df.dropna()\n",
    "\n",
    "print(games_df.shape)\n",
    "\n",
    "from sklearn.model_selection import train_test_split\n",
    "\n",
    "feature_cols = [\"PL5G\", \"OL5G\", \"PS\", \"OS\", \"PWR\", \"OWR\", \"AWR\", \"ABD\"]\n",
    "\n",
    "X = games_df[feature_cols]\n",
    "y = games_df[\"label\"]\n",
    "\n",
    "X_train, X_test, y_train, y_test = train_test_split(X, y, test_size=0.25)\n",
    "\n",
    "from sklearn import metrics\n",
    "from sklearn.ensemble import RandomForestClassifier\n",
    "\n",
    "forest = RandomForestClassifier(n_estimators=1000)\n",
    "\n",
    "forest.fit(X_train, y_train)\n",
    "y_pred = forest.predict(X_test)\n",
    "\n",
    "print(metrics.accuracy_score(y_test, y_pred))\n",
    "\n"
   ]
  },
  {
   "cell_type": "code",
   "execution_count": 2,
   "id": "49b4b93d-15a3-4e47-90de-c41f615d88f3",
   "metadata": {},
   "outputs": [
    {
     "data": {
      "image/png": "[encoded data removed]",
      "text/plain": [
       "<Figure size 432x288 with 1 Axes>"
      ]
     },
     "metadata": {
      "needs_background": "light"
     },
     "output_type": "display_data"
    }
   ],
   "source": [
    "from matplotlib import pyplot\n",
    "from numpy import std\n",
    "from pandas import Series\n",
    "\n",
    "std = std([tree.feature_importances_ for tree in forest.estimators_], axis=0)\n",
    "forest_importances = Series(forest.feature_importances_, index=feature_cols)\n",
    "\n",
    "fig, ax = pyplot.subplots()\n",
    "forest_importances.plot.bar(yerr=std, ax=ax)\n",
    "ax.set_title(\"Feature importances for Go Win Rates\")\n",
    "fig.tight_layout()"
   ]
  },
  {
   "cell_type": "code",
   "execution_count": 11,
   "id": "043fae71-5800-4634-b929-0d6cc2604d75",
   "metadata": {},
   "outputs": [
    {
     "data": {
      "text/plain": [
       "array([[7585, 3999],\n",
       "       [3893, 7425]])"
      ]
     },
     "execution_count": 11,
     "metadata": {},
     "output_type": "execute_result"
    }
   ],
   "source": [
    "from sklearn.metrics import confusion_matrix\n",
    "\n",
    "confusion_matrix(y_test, y_pred)"
   ]
  },
  {
   "cell_type": "code",
   "execution_count": null,
   "id": "00a1d378-e2e7-448c-9f6e-4cae396418e3",
   "metadata": {},
   "outputs": [],
   "source": [
    "count = 0\n",
    "for i, prediction, label in zip(X_test.iterrows(), y_pred, y_test):\n",
    "    if prediction != label and not 0.4 <= i[1].AWR <= 0.6:\n",
    "        count += 1\n",
    "\n",
    "count"
   ]
  },
  {
   "cell_type": "code",
   "execution_count": null,
   "id": "18f647bc-e215-42f0-8edd-054871832829",
   "metadata": {},
   "outputs": [],
   "source": [
    "rfc = RandomForestClassifier()\n",
    "parameters = {\"n_estimators\": [500, 1000], \"max_depth\": [2, 4, 8, 16, 32, None]}\n",
    "\n",
    "from sklearn.model_selection import GridSearchCV\n",
    "\n",
    "cv = GridSearchCV(rfc, parameters, cv=5)\n",
    "cv.fit(X_train, y_train)"
   ]
  },
  {
   "cell_type": "code",
   "execution_count": null,
   "id": "e892b017-991d-4a8a-a12b-e0100c1a0749",
   "metadata": {},
   "outputs": [],
   "source": [
    "def display(results):\n",
    "    print(f\"Best parameters are: {results.best_params_}\")\n",
    "    print(\"\\n\")\n",
    "    mean_score = results.cv_results_[\"mean_test_score\"]\n",
    "    std_score = results.cv_results_[\"std_test_score\"]\n",
    "    params = results.cv_results_[\"params\"]\n",
    "    for mean, std, params in zip(mean_score, std_score, params):\n",
    "        print(f\"{round(mean,3)} + or -{round(std,3)} for the {params}\")\n",
    "\n",
    "\n",
    "display(cv)"
   ]
  },
  {
   "cell_type": "code",
   "execution_count": null,
   "id": "7df55059-65bb-43a8-8ffc-44afa8bfee58",
   "metadata": {},
   "outputs": [],
   "source": [
    "forest = RandomForestClassifier(n_estimators=50, max_depth=8)\n",
    "\n",
    "forest.fit(X_train, y_train)\n",
    "y_pred = forest.predict(X_test)\n",
    "\n",
    "print(metrics.accuracy_score(y_test, y_pred))"
   ]
  },
  {
   "cell_type": "code",
   "execution_count": null,
   "id": "1484c7d8-5d24-4833-beda-5f79f47d455c",
   "metadata": {},
   "outputs": [],
   "source": [
    "metrics.confusion_matrix(y_test, y_pred)"
   ]
  },
  {
   "cell_type": "code",
   "execution_count": 15,
   "id": "2e0eb9a9-71f4-4d04-bb0b-0b1a49f3673f",
   "metadata": {},
   "outputs": [
    {
     "name": "stdout",
     "output_type": "stream",
     "text": [
      "0.6660117020347568\n"
     ]
    }
   ],
   "source": [
    "from pandas import DataFrame, read_csv\n",
    "\n",
    "games_df = read_csv(\"./data/01-11-processed.csv\")\n",
    "games_df = games_df.dropna()\n",
    "\n",
    "from sklearn.model_selection import train_test_split\n",
    "\n",
    "feature_cols = [\n",
    "    \"PL5G\",\n",
    "    \"OL5G\",\n",
    "    \"PS\",\n",
    "    \"OS\",\n",
    "    \"PWR\",\n",
    "    \"OWR\",\n",
    "    \"AWR\",\n",
    "]\n",
    "\n",
    "X = games_df[feature_cols]\n",
    "y = games_df[\"label\"]\n",
    "\n",
    "X_train, X_test, y_train, y_test = train_test_split(X, y, test_size=0.25)\n",
    "\n",
    "from sklearn import metrics, svm\n",
    "\n",
    "machine = svm.SVC()\n",
    "\n",
    "machine.fit(X_train, y_train)\n",
    "y_pred = machine.predict(X_test)\n",
    "\n",
    "print(metrics.accuracy_score(y_test, y_pred))"
   ]
  },
  {
   "cell_type": "code",
   "execution_count": null,
   "id": "ae08437e-0443-47ad-bbb1-ddd63f863e77",
   "metadata": {},
   "outputs": [],
   "source": []
  },
  {
   "cell_type": "code",
   "execution_count": null,
   "id": "d82bdf9d-0bd7-45c6-9a71-7b447961fcba",
   "metadata": {},
   "outputs": [],
   "source": []
  }
 ],
 "metadata": {
  "kernelspec": {
   "display_name": "Python 3 (ipykernel)",
   "language": "python",
   "name": "python3"
  },
  "language_info": {
   "codemirror_mode": {
    "name": "ipython",
    "version": 3
   },
   "file_extension": ".py",
   "mimetype": "text/x-python",
   "name": "python",
   "nbconvert_exporter": "python",
   "pygments_lexer": "ipython3",
   "version": "3.9.7"
  }
 },
 "nbformat": 4,
 "nbformat_minor": 5
}
