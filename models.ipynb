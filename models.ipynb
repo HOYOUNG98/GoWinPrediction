{
 "cells": [
  {
   "cell_type": "code",
   "execution_count": 1,
   "id": "e1dcf8a0-282a-4b4d-9a20-b63c77ac8112",
   "metadata": {},
   "outputs": [
    {
     "data": {
      "text/plain": [
       "0.9647825809063212"
      ]
     },
     "execution_count": 1,
     "metadata": {},
     "output_type": "execute_result"
    }
   ],
   "source": [
    "from pandas import DataFrame, read_csv\n",
    "from tqdm import tqdm\n",
    "\n",
    "games_df = read_csv(\"./data/12-14-processed.csv\")\n",
    "games_df = games_df.dropna()\n",
    "\n",
    "from sklearn.model_selection import train_test_split\n",
    "\n",
    "feature_cols = [\n",
    "    \"PL5G\",\n",
    "    \"OL5G\",\n",
    "    \"PS\",\n",
    "    \"OS\",\n",
    "    \"PWR\",\n",
    "    \"OWR\",\n",
    "    \"AWR\",\n",
    "]\n",
    "\n",
    "X = games_df[feature_cols]\n",
    "y = games_df[\"label\"]\n",
    "\n",
    "X_train, X_test, y_train, y_test = train_test_split(X, y, test_size=0.25)\n",
    "\n",
    "from sklearn.ensemble import RandomForestClassifier\n",
    "from sklearn import metrics\n",
    "\n",
    "forest = RandomForestClassifier() \n",
    "\n",
    "forest.fit(X_train, y_train)\n",
    "y_pred = forest.predict(X_test)\n",
    "\n",
    "metrics.accuracy_score(y_test, y_pred)"
   ]
  },
  {
   "cell_type": "code",
   "execution_count": 2,
   "id": "49b4b93d-15a3-4e47-90de-c41f615d88f3",
   "metadata": {},
   "outputs": [
    {
     "data": {
      "image/png": "[encoded data removed]",
      "text/plain": [
       "<Figure size 432x288 with 1 Axes>"
      ]
     },
     "metadata": {
      "needs_background": "light"
     },
     "output_type": "display_data"
    }
   ],
   "source": [
    "from pandas import Series\n",
    "from matplotlib import pyplot\n",
    "from numpy import std\n",
    "\n",
    "std = std([tree.feature_importances_ for tree in forest.estimators_], axis=0)\n",
    "forest_importances = Series(forest.feature_importances_, index=feature_cols)\n",
    "\n",
    "fig, ax = pyplot.subplots()\n",
    "forest_importances.plot.bar(yerr=std, ax=ax)\n",
    "ax.set_title(\"Feature importances for Go Win Rates\")\n",
    "fig.tight_layout()"
   ]
  },
  {
   "cell_type": "code",
   "execution_count": 3,
   "id": "043fae71-5800-4634-b929-0d6cc2604d75",
   "metadata": {},
   "outputs": [
    {
     "data": {
      "text/plain": [
       "array([[22567,   794],\n",
       "       [  859, 22717]])"
      ]
     },
     "execution_count": 3,
     "metadata": {},
     "output_type": "execute_result"
    }
   ],
   "source": [
    "metrics.confusion_matrix(y_test, y_pred)"
   ]
  }
 ],
 "metadata": {
  "kernelspec": {
   "display_name": "Python 3 (ipykernel)",
   "language": "python",
   "name": "python3"
  },
  "language_info": {
   "codemirror_mode": {
    "name": "ipython",
    "version": 3
   },
   "file_extension": ".py",
   "mimetype": "text/x-python",
   "name": "python",
   "nbconvert_exporter": "python",
   "pygments_lexer": "ipython3",
   "version": "3.9.7"
  }
 },
 "nbformat": 4,
 "nbformat_minor": 5
}
