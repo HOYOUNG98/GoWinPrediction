{
 "cells": [
  {
   "cell_type": "code",
   "execution_count": 1,
   "metadata": {},
   "outputs": [
    {
     "name": "stdout",
     "output_type": "stream",
     "text": [
      "         date player opponent\n",
      "0  2021.09.24    이창석      박건호\n",
      "1                원성진      최 정\n",
      "2                강동윤      김승재\n",
      "3                최철한      안성준\n",
      "4  2021.09.23    김수진      박지영\n"
     ]
    }
   ],
   "source": [
    "from pandas import read_csv, DataFrame, concat\n",
    "from os import listdir\n",
    "\n",
    "games = []\n",
    "filenames = listdir(\"./data\")\n",
    "for file in filenames:\n",
    "    games.append(read_csv(\"./data/\" + file))\n",
    "games_df = concat(games,ignore_index=True)\n",
    "\n",
    "games_df = games_df.rename(columns={\"winner\":\"player\",\"loser\":\"opponent\"})\n",
    "\n",
    "print(games_df.head())"
   ]
  },
  {
   "cell_type": "code",
   "execution_count": 2,
   "metadata": {},
   "outputs": [
    {
     "name": "stdout",
     "output_type": "stream",
     "text": [
      "         date player opponent\n",
      "0  2021.09.24    이창석      박건호\n",
      "1  2021.09.24    원성진      최 정\n",
      "2  2021.09.24    강동윤      김승재\n",
      "3  2021.09.24    최철한      안성준\n",
      "4  2021.09.23    김수진      박지영\n"
     ]
    }
   ],
   "source": [
    "latest = games_df.iloc[0][\"date\"]\n",
    "for i in range(1,len(games_df)):\n",
    "    if games_df.iloc[i]['date'] == '\\xa0':\n",
    "        games_df.iloc[i]['date'] = latest  \n",
    "    else:\n",
    "        latest = games_df.iloc[i-1]['date']\n",
    "\n",
    "print(games_df.head())"
   ]
  },
  {
   "cell_type": "code",
   "execution_count": 3,
   "metadata": {},
   "outputs": [
    {
     "name": "stderr",
     "output_type": "stream",
     "text": [
      "100%|███████████████████████████████████████| 1322/1322 [00:40<00:00, 32.97it/s]\n"
     ]
    }
   ],
   "source": [
    "from tqdm import tqdm\n",
    "\n",
    "games_df[\"player_result\"] = None\n",
    "games_df['player_start_of_streak'] = None\n",
    "games_df['player_streak_id'] = None\n",
    "games_df['PS'] = None\n",
    "\n",
    "filtered_df = DataFrame()\n",
    "for player in tqdm(games_df.player.unique()):\n",
    "    filtered_df = games_df.loc[(games_df.player == player) | (games_df.opponent == player)]\n",
    "    filtered_df = filtered_df.assign(player_result=lambda row: row.player == player)\n",
    "    filtered_df = filtered_df.assign(player_start_of_streak = filtered_df.player_result.ne(filtered_df['player_result'].shift()))\n",
    "    filtered_df = filtered_df.assign(player_streak_id=filtered_df['player_start_of_streak'].cumsum())\n",
    "    filtered_df = filtered_df.assign(PS=filtered_df.groupby('player_streak_id').cumcount()+1)\n",
    "\n",
    "    for index,row in filtered_df.iterrows():\n",
    "        if row.player_result:\n",
    "            games_df.loc[index,'PS'] = row.PS\n",
    "        else:\n",
    "            games_df.loc[index,'PS'] = row.PS * -1\n",
    "    "
   ]
  },
  {
   "cell_type": "code",
   "execution_count": 4,
   "metadata": {},
   "outputs": [
    {
     "name": "stderr",
     "output_type": "stream",
     "text": [
      "100%|███████████████████████████████████████| 1736/1736 [00:44<00:00, 39.13it/s]\n"
     ]
    }
   ],
   "source": [
    "games_df[\"opponent_result\"] = None\n",
    "games_df['opponent_start_of_streak'] = None\n",
    "games_df['opponent_streak_id'] = None\n",
    "games_df['OS'] = None\n",
    "\n",
    "filtered_df = DataFrame()\n",
    "for player in tqdm(games_df.opponent.unique()):\n",
    "    filtered_df = games_df.loc[(games_df.player == player) | (games_df.opponent == player)]\n",
    "    filtered_df = filtered_df.assign(opponent_result=lambda row: row.opponent == player)\n",
    "    filtered_df = filtered_df.assign(opponent_start_of_streak = filtered_df.opponent_result.ne(filtered_df['opponent_result'].shift()))\n",
    "    filtered_df = filtered_df.assign(opponent_streak_id=filtered_df['opponent_start_of_streak'].cumsum())\n",
    "    filtered_df = filtered_df.assign(OS=filtered_df.groupby('opponent_streak_id').cumcount()+1)\n",
    "    \n",
    "    for index,row in filtered_df.iterrows():\n",
    "        if row.opponent_result:\n",
    "            games_df.loc[index,'OS'] = row.OS\n",
    "        else:\n",
    "            games_df.loc[index,'OS'] = row.OS * -1\n"
   ]
  },
  {
   "cell_type": "code",
   "execution_count": 5,
   "metadata": {},
   "outputs": [
    {
     "name": "stderr",
     "output_type": "stream",
     "text": [
      "100%|█████████████████████████████████████| 78093/78093 [13:51<00:00, 93.94it/s]\n",
      "100%|█████████████████████████████████████| 78093/78093 [14:12<00:00, 91.64it/s]\n"
     ]
    }
   ],
   "source": [
    "# Add new column of win - lose of last 5 games\n",
    "for i, row1 in tqdm(games_df.iterrows(), total=games_df.shape[0]):\n",
    "    filtered_df = games_df.iloc[i + 1 :].loc[\n",
    "        (games_df[\"player\"] == row1[\"player\"]) | (games_df[\"opponent\"] == row1[\"player\"])\n",
    "    ][:5]\n",
    "    value = 0\n",
    "    for _, row2 in filtered_df.iterrows():\n",
    "        value = value + 1 if row1[\"player\"] == row2[\"player\"] else value - 1\n",
    "    games_df.loc[i, \"PL5G\"] = value\n",
    "\n",
    "# Add new column of win - lose of last 10 games\n",
    "for i, row1 in tqdm(games_df.iterrows(), total=games_df.shape[0]):\n",
    "    filtered_df = games_df.iloc[i + 1 :].loc[\n",
    "        (games_df[\"player\"] == row1[\"opponent\"]) | (games_df[\"opponent\"] == row1[\"opponent\"])\n",
    "    ][:5]\n",
    "    value = 0\n",
    "    for _, row2 in filtered_df.iterrows():\n",
    "        value = value + 1 if row1[\"opponent\"] == row2[\"player\"] else value - 1\n",
    "    games_df.loc[i, \"OL5G\"] = value"
   ]
  },
  {
   "cell_type": "code",
   "execution_count": 6,
   "metadata": {},
   "outputs": [
    {
     "name": "stderr",
     "output_type": "stream",
     "text": [
      "100%|█████████████████████████████████████| 78093/78093 [26:58<00:00, 48.25it/s]\n"
     ]
    }
   ],
   "source": [
    "# Add new column of against\n",
    "for i, row1 in tqdm(games_df.iterrows(), total=games_df.shape[0]):\n",
    "    filtered_df1 = games_df.iloc[i + 1 :].loc[\n",
    "        ((row1[\"player\"] == games_df[\"player\"]) & (row1[\"opponent\"] == games_df[\"opponent\"]))\n",
    "    ]\n",
    "    filtered_df2 = games_df.iloc[i + 1 :].loc[\n",
    "        ((row1[\"player\"] == games_df[\"opponent\"]) & (row1[\"opponent\"] == games_df[\"player\"]))\n",
    "    ]\n",
    "\n",
    "    games_df.loc[i, \"PAW\"] = filtered_df1.shape[0]\n",
    "    games_df.loc[i, \"OAW\"] = filtered_df2.shape[0]"
   ]
  },
  {
   "cell_type": "code",
   "execution_count": 7,
   "metadata": {},
   "outputs": [
    {
     "name": "stderr",
     "output_type": "stream",
     "text": [
      "100%|█████████████████████████████████████| 78093/78093 [17:18<00:00, 75.23it/s]\n",
      "100%|█████████████████████████████████████| 78093/78093 [20:10<00:00, 64.51it/s]"
     ]
    },
    {
     "name": "stdout",
     "output_type": "stream",
     "text": [
      "         date player opponent player_result player_start_of_streak  \\\n",
      "0  2021.09.24    이창석      박건호          None                   None   \n",
      "1  2021.09.24    원성진      최 정          None                   None   \n",
      "2  2021.09.24    강동윤      김승재          None                   None   \n",
      "3  2021.09.24    최철한      안성준          None                   None   \n",
      "4  2021.09.23    김수진      박지영          None                   None   \n",
      "\n",
      "  player_streak_id  PS opponent_result opponent_start_of_streak  \\\n",
      "0             None  -1            None                     None   \n",
      "1             None  -1            None                     None   \n",
      "2             None  -1            None                     None   \n",
      "3             None  -1            None                     None   \n",
      "4             None  -1            None                     None   \n",
      "\n",
      "  opponent_streak_id  ... OL5G   PAW  OAW    PNW   PNL    ONW    ONL  \\\n",
      "0               None  ... -1.0  16.0  1.0  251.0  15.0  188.0  159.0   \n",
      "1               None  ... -3.0  15.0  1.0  620.0  17.0  599.0  276.0   \n",
      "2               None  ... -1.0  17.0  2.0  798.0  17.0  441.0  266.0   \n",
      "3               None  ... -1.0  20.0  4.0  792.0  17.0  384.0  216.0   \n",
      "4               None  ... -5.0  15.0  0.0  181.0  17.0   21.0   99.0   \n",
      "\n",
      "        PWR       OWR       AWR  \n",
      "0  0.943609  0.541787  0.941176  \n",
      "1  0.973312  0.684571  0.937500  \n",
      "2  0.979141  0.623762  0.894737  \n",
      "3  0.978986  0.640000  0.833333  \n",
      "4  0.914141  0.175000  1.000000  \n",
      "\n",
      "[5 rows x 22 columns]\n"
     ]
    },
    {
     "name": "stderr",
     "output_type": "stream",
     "text": [
      "\n"
     ]
    }
   ],
   "source": [
    "# Add new column of winner win percentage\n",
    "for i, row1 in tqdm(games_df.iterrows(), total=games_df.shape[0]):\n",
    "    filtered_df1 = games_df.iloc[i + 1 :].loc[(row1[\"player\"] == games_df[\"player\"])]\n",
    "    filtered_df2 = games_df.iloc[i + 1 :].loc[(row1[\"player\"] == games_df[\"opponent\"])]\n",
    "\n",
    "    games_df.loc[i, \"PNW\"] = filtered_df1.shape[0]\n",
    "    games_df.loc[i, \"PNL\"] = filtered_df2.shape[1]\n",
    "\n",
    "# Add new column of loser win percentage\n",
    "for i, row1 in tqdm(games_df.iterrows(), total=games_df.shape[0]):\n",
    "    filtered_df1 = games_df.iloc[i + 1 :].loc[(row1[\"opponent\"] == games_df[\"player\"])]\n",
    "    filtered_df2 = games_df.iloc[i + 1 :].loc[(row1[\"opponent\"] == games_df[\"opponent\"])]\n",
    "\n",
    "    games_df.loc[i, \"ONW\"] = filtered_df1.shape[0]\n",
    "    games_df.loc[i, \"ONL\"] = filtered_df2.shape[0]\n",
    "    \n",
    "    games_df[\"PWR\"] = games_df[\"PNW\"] / (games_df[\"PNW\"] + games_df[\"PNL\"])\n",
    "    games_df[\"OWR\"] = games_df[\"ONW\"] / (games_df[\"ONW\"] + games_df[\"ONL\"])\n",
    "    games_df[\"AWR\"] = games_df[\"PAW\"] / (games_df[\"PAW\"] + games_df[\"OAW\"])\n",
    "    \n",
    "print(games_df.head())"
   ]
  },
  {
   "cell_type": "code",
   "execution_count": 10,
   "metadata": {},
   "outputs": [],
   "source": [
    "games_df.to_csv(\"./data/processed_games.csv\")"
   ]
  }
 ],
 "metadata": {
  "interpreter": {
   "hash": "dc376eb2f64e3d5a5d53725ab7112611c0bf6c67edfde6187aee603b6e626a3e"
  },
  "kernelspec": {
   "display_name": "Python 3 (ipykernel)",
   "language": "python",
   "name": "python3"
  },
  "language_info": {
   "codemirror_mode": {
    "name": "ipython",
    "version": 3
   },
   "file_extension": ".py",
   "mimetype": "text/x-python",
   "name": "python",
   "nbconvert_exporter": "python",
   "pygments_lexer": "ipython3",
   "version": "3.9.7"
  }
 },
 "nbformat": 4,
 "nbformat_minor": 4
}
